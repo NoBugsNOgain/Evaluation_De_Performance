{
 "cells": [
  {
   "cell_type": "markdown",
   "metadata": {},
   "source": [
    "# <center> Evaluation de Performance <br>TP1: Génération de nombres aléatoires de différentes distributions"
   ]
  },
  {
   "cell_type": "markdown",
   "metadata": {},
   "source": [
    "## Objectif "
   ]
  },
  {
   "cell_type": "markdown",
   "metadata": {},
   "source": [
    "<img src=\"tp1_image1.PNG\">"
   ]
  },
  {
   "cell_type": "markdown",
   "metadata": {},
   "source": [
    "## Principes \n",
    "### <p style='color:green; background-color:yellow; text-align:center'> Notions de base  </p>"
   ]
  },
  {
   "cell_type": "markdown",
   "metadata": {},
   "source": [
    ">>On appelle   **variable aléatoire réelle (VAR)** \n",
    ">> discrète définie sur (Ω, A) toute application X de Ω dans R telle que :\n",
    "- X(Ω) = {xi/i ∈ I} avec I = N, Z ou une de leurs parties finies.\n",
    "- pour tout x ∈ X(Ω), {ω ∈ Ω/X(ω) = x} ∈ A\n"
   ]
  },
  {
   "cell_type": "markdown",
   "metadata": {},
   "source": [
    ">> ### Loi de probabilité\n",
    "On appelle loi de probabilité de la **distribution de X** l’ensemble\n",
    "de couples (xi, pi) où :\n",
    "<br><center> xi ∈ X(Ω) et pi = P([X = xi])</center>\n",
    ">> ### a)Espérance:\n",
    "<br> On dit que X admet une espérance, ou que l’espérance de X existe, lorsque X(Ω)est fini ou lorsque la série<br>  somme de xi.P(X = xi) est absolument convergente.\n",
    "<br>On appelle alors espérance de X, le réel E(X) = somme de xi.P(X = xi)\n",
    "<img src=\"tp1_image2.PNG\">\n",
    ">> ### b)Variance et écart type:\n",
    " Soit X une VAR discrète admettant une espérance et telle que la variable X −E(X) admet un moment d’ordre 2. On appelle variance de X le réel :<center> V(X)=E((X-E(x*x))</center>"
   ]
  },
  {
   "cell_type": "markdown",
   "metadata": {},
   "source": [
    "## Travail demandé "
   ]
  },
  {
   "cell_type": "markdown",
   "metadata": {},
   "source": [
    "<img src=\"tp1_image4.PNG\">"
   ]
  },
  {
   "cell_type": "markdown",
   "metadata": {},
   "source": [
    "### <p style='color:green; background-color:yellow; text-align:center'> Code en PYTHON  </p>"
   ]
  },
  {
   "cell_type": "markdown",
   "metadata": {},
   "source": [
    "### <p style='color:green; background-color:orange; text-align:center'> Exemple1 </p>"
   ]
  },
  {
   "cell_type": "code",
   "execution_count": 190,
   "metadata": {},
   "outputs": [],
   "source": [
    "import numpy as np\n",
    "import matplotlib.pyplot as plt\n",
    "import scipy.stats as sps\n",
    "from numpy import random\n",
    "import statistics\n",
    "import seaborn as sns\n",
    "import math"
   ]
  },
  {
   "cell_type": "code",
   "execution_count": 191,
   "metadata": {},
   "outputs": [],
   "source": [
    "def loiUniform():\n",
    "    y= random.uniform(0, 1)\n",
    "    return y"
   ]
  },
  {
   "cell_type": "code",
   "execution_count": 192,
   "metadata": {},
   "outputs": [],
   "source": [
    "x=[]"
   ]
  },
  {
   "cell_type": "code",
   "execution_count": 193,
   "metadata": {},
   "outputs": [],
   "source": [
    "def listeUniforme(N,x):   \n",
    "    for i in range(N):\n",
    "        x.append(loiUniform())\n",
    "    "
   ]
  },
  {
   "cell_type": "code",
   "execution_count": 194,
   "metadata": {},
   "outputs": [],
   "source": [
    "listeUniforme(10,x)"
   ]
  },
  {
   "cell_type": "markdown",
   "metadata": {},
   "source": [
    "\n",
    "### Visualisation de la distribution uniforme"
   ]
  },
  {
   "cell_type": "code",
   "execution_count": 195,
   "metadata": {},
   "outputs": [],
   "source": [
    "def Visualisation(x):\n",
    "    sns.distplot(x, hist=False)\n",
    "    plt.show()"
   ]
  },
  {
   "cell_type": "markdown",
   "metadata": {},
   "source": [
    "### Variance "
   ]
  },
  {
   "cell_type": "code",
   "execution_count": 196,
   "metadata": {},
   "outputs": [],
   "source": [
    " def varianceL(x):\n",
    "    v=statistics.variance(x)\n",
    "    print(\"la Variance de la distribution de la variable x est % s\" \n",
    "      %(v)) \n",
    "    return v"
   ]
  },
  {
   "cell_type": "code",
   "execution_count": 197,
   "metadata": {},
   "outputs": [
    {
     "name": "stdout",
     "output_type": "stream",
     "text": [
      "la Variance de la distribution de la variable x est 0.05081846118574348\n"
     ]
    },
    {
     "data": {
      "text/plain": [
       "0.05081846118574348"
      ]
     },
     "execution_count": 197,
     "metadata": {},
     "output_type": "execute_result"
    }
   ],
   "source": [
    "varianceL(x)"
   ]
  },
  {
   "cell_type": "markdown",
   "metadata": {},
   "source": [
    "## moyenne "
   ]
  },
  {
   "cell_type": "code",
   "execution_count": 198,
   "metadata": {},
   "outputs": [],
   "source": [
    "def moyenneL(x):\n",
    "    m = statistics.mean(x) \n",
    "    print (m)\n",
    "    return m"
   ]
  },
  {
   "cell_type": "code",
   "execution_count": 199,
   "metadata": {},
   "outputs": [
    {
     "name": "stdout",
     "output_type": "stream",
     "text": [
      "0.5769395806130945\n"
     ]
    },
    {
     "data": {
      "text/plain": [
       "0.5769395806130945"
      ]
     },
     "execution_count": 199,
     "metadata": {},
     "output_type": "execute_result"
    }
   ],
   "source": [
    "moyenneL(x)"
   ]
  },
  {
   "cell_type": "code",
   "execution_count": 6,
   "metadata": {},
   "outputs": [
    {
     "ename": "NameError",
     "evalue": "name 'listeUniforme' is not defined",
     "output_type": "error",
     "traceback": [
      "\u001b[1;31m---------------------------------------------------------------------------\u001b[0m",
      "\u001b[1;31mNameError\u001b[0m                                 Traceback (most recent call last)",
      "\u001b[1;32m<ipython-input-6-860027408236>\u001b[0m in \u001b[0;36m<module>\u001b[1;34m\u001b[0m\n\u001b[0;32m      3\u001b[0m \u001b[0mN3\u001b[0m\u001b[1;33m=\u001b[0m\u001b[1;36m1000\u001b[0m\u001b[1;33m\u001b[0m\u001b[1;33m\u001b[0m\u001b[0m\n\u001b[0;32m      4\u001b[0m \u001b[0mx1\u001b[0m\u001b[1;33m=\u001b[0m\u001b[1;33m[\u001b[0m\u001b[1;33m]\u001b[0m\u001b[1;33m\u001b[0m\u001b[1;33m\u001b[0m\u001b[0m\n\u001b[1;32m----> 5\u001b[1;33m \u001b[0mlisteUniforme\u001b[0m\u001b[1;33m(\u001b[0m\u001b[0mN1\u001b[0m\u001b[1;33m,\u001b[0m\u001b[0mx1\u001b[0m\u001b[1;33m)\u001b[0m\u001b[1;33m\u001b[0m\u001b[1;33m\u001b[0m\u001b[0m\n\u001b[0m\u001b[0;32m      6\u001b[0m \u001b[0mVisualisation\u001b[0m\u001b[1;33m(\u001b[0m\u001b[0mx1\u001b[0m\u001b[1;33m)\u001b[0m\u001b[1;33m\u001b[0m\u001b[1;33m\u001b[0m\u001b[0m\n\u001b[0;32m      7\u001b[0m \u001b[0mvarianceL\u001b[0m\u001b[1;33m(\u001b[0m\u001b[0mx1\u001b[0m\u001b[1;33m)\u001b[0m\u001b[1;33m\u001b[0m\u001b[1;33m\u001b[0m\u001b[0m\n",
      "\u001b[1;31mNameError\u001b[0m: name 'listeUniforme' is not defined"
     ]
    }
   ],
   "source": [
    "N1=10\n",
    "N2=100\n",
    "N3=1000\n",
    "x1=[]\n",
    "listeUniforme(N1,x1)\n",
    "Visualisation(x1)\n",
    "varianceL(x1)\n",
    "moyenneL(x1)\n",
    "\n",
    "x2=[]\n",
    "listeUniforme(N2,x2)\n",
    "Visualisation(x2)\n",
    "varianceL(x2)\n",
    "moyenneL(x2)\n",
    "\n",
    "x3=[]\n",
    "listeUniforme(N3,x3)\n",
    "Visualisation(x3)\n",
    "varianceL(x3)\n",
    "moyenneL(x3)\n"
   ]
  },
  {
   "cell_type": "markdown",
   "metadata": {},
   "source": [
    "### <p style='color:green; background-color:orange; text-align:center'> Exemple2 </p>"
   ]
  },
  {
   "cell_type": "markdown",
   "metadata": {},
   "source": [
    "<img src=\"tp1_image5.PNG\">"
   ]
  },
  {
   "cell_type": "code",
   "execution_count": 4,
   "metadata": {},
   "outputs": [],
   "source": [
    "def loiexpo(x, N, epsilon, u):\n",
    "    for i in range(N):\n",
    "        y=-((math.log(x[i]))/epsilon)\n",
    "        u.append(y)"
   ]
  },
  {
   "cell_type": "code",
   "execution_count": 5,
   "metadata": {},
   "outputs": [
    {
     "ename": "NameError",
     "evalue": "name 'x1' is not defined",
     "output_type": "error",
     "traceback": [
      "\u001b[1;31m---------------------------------------------------------------------------\u001b[0m",
      "\u001b[1;31mNameError\u001b[0m                                 Traceback (most recent call last)",
      "\u001b[1;32m<ipython-input-5-a37d51809a6b>\u001b[0m in \u001b[0;36m<module>\u001b[1;34m\u001b[0m\n\u001b[0;32m      1\u001b[0m \u001b[0mu\u001b[0m\u001b[1;33m=\u001b[0m\u001b[1;33m[\u001b[0m\u001b[1;33m]\u001b[0m\u001b[1;33m\u001b[0m\u001b[1;33m\u001b[0m\u001b[0m\n\u001b[1;32m----> 2\u001b[1;33m \u001b[0mloiexpo\u001b[0m\u001b[1;33m(\u001b[0m\u001b[0mx1\u001b[0m\u001b[1;33m,\u001b[0m \u001b[0mN1\u001b[0m\u001b[1;33m,\u001b[0m \u001b[1;36m4\u001b[0m\u001b[1;33m,\u001b[0m \u001b[0mu\u001b[0m\u001b[1;33m)\u001b[0m\u001b[1;33m\u001b[0m\u001b[1;33m\u001b[0m\u001b[0m\n\u001b[0m\u001b[0;32m      3\u001b[0m \u001b[0mprint\u001b[0m\u001b[1;33m(\u001b[0m\u001b[0mu\u001b[0m\u001b[1;33m)\u001b[0m\u001b[1;33m\u001b[0m\u001b[1;33m\u001b[0m\u001b[0m\n",
      "\u001b[1;31mNameError\u001b[0m: name 'x1' is not defined"
     ]
    }
   ],
   "source": [
    "u=[]\n",
    "loiexpo(x1, N1, 4, u)\n",
    "print(u)\n"
   ]
  },
  {
   "cell_type": "code",
   "execution_count": 209,
   "metadata": {},
   "outputs": [
    {
     "name": "stdout",
     "output_type": "stream",
     "text": [
      "0.1984879549077339\n",
      "la Variance de la distribution de la variable x est 0.02757787524661737\n"
     ]
    },
    {
     "data": {
      "text/plain": [
       "0.02757787524661737"
      ]
     },
     "execution_count": 209,
     "metadata": {},
     "output_type": "execute_result"
    }
   ],
   "source": [
    "moyenneL(u)\n",
    "varianceL(u)"
   ]
  },
  {
   "cell_type": "code",
   "execution_count": null,
   "metadata": {},
   "outputs": [],
   "source": []
  }
 ],
 "metadata": {
  "kernelspec": {
   "display_name": "Python 3",
   "language": "python",
   "name": "python3"
  },
  "language_info": {
   "codemirror_mode": {
    "name": "ipython",
    "version": 3
   },
   "file_extension": ".py",
   "mimetype": "text/x-python",
   "name": "python",
   "nbconvert_exporter": "python",
   "pygments_lexer": "ipython3",
   "version": "3.8.3"
  }
 },
 "nbformat": 4,
 "nbformat_minor": 4
}
