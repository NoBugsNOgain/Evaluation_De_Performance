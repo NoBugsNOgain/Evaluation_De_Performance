{
 "cells": [
  {
   "cell_type": "markdown",
   "metadata": {},
   "source": [
    "<img src=\"tp1_image7.PNG\">"
   ]
  },
  {
   "cell_type": "markdown",
   "metadata": {},
   "source": [
    "# <center> Evaluation de Performance <br>TP1: Génération de nombres aléatoires de différentes distributions"
   ]
  },
  {
   "cell_type": "markdown",
   "metadata": {},
   "source": [
    "<u><h2>Objectif :</h2></u>\n",
    ">\n",
    "- Creer des distributions aléatoires qui sont génerer par un nombre N \n",
    "- Appliquée et visualiser  des differentes loi de probabilité \n",
    "- tester la fidélité de la valeur de la moyenne éxperimentale à celle de théorique .\n",
    "- tester la fidélité de la valeur de la variance  éxperimentale à celle de théorique\n",
    "Dans ce tp nous allons utiliser le langage PYTHON "
   ]
  },
  {
   "cell_type": "markdown",
   "metadata": {},
   "source": [
    "<u><h2> Rappel : Notion de Base</h2> </u>"
   ]
  },
  {
   "cell_type": "markdown",
   "metadata": {},
   "source": [
    ">>On appelle   **variable aléatoire réelle (VAR)** \n",
    ">> discrète définie sur (Ω, A) toute application X de Ω dans R telle que :\n",
    "- X(Ω) = {xi/i ∈ I} avec I = N, Z ou une de leurs parties finies.\n",
    "- pour tout x ∈ X(Ω), {ω ∈ Ω/X(ω) = x} ∈ A\n"
   ]
  },
  {
   "cell_type": "markdown",
   "metadata": {},
   "source": [
    ">> ### Loi de probabilité\n",
    "On appelle loi de probabilité de la **distribution de X** l’ensemble\n",
    "de couples (xi, pi) où :\n",
    "<br><center> xi ∈ X(Ω) et pi = P([X = xi])</center>\n",
    ">> ### a)Espérance:\n",
    "<br> On dit que X admet une espérance, ou que l’espérance de X existe, lorsque X(Ω)est fini ou lorsque la série<br>  somme de xi.P(X = xi) est absolument convergente.\n",
    "<br>On appelle alors espérance de X, le réel E(X) = somme de xi.P(X = xi)\n",
    "<img src=\"tp1_image2.PNG\">\n",
    ">> ### b)Variance et écart type:\n",
    " Soit X une VAR discrète admettant une espérance et telle que la variable X −E(X) admet un moment d’ordre 2. On appelle variance de X le réel :<center> V(X)=E((X-E(x*x))</center>"
   ]
  },
  {
   "cell_type": "markdown",
   "metadata": {},
   "source": [
    "<h2><u> Travail demandé :  </u> Code en Python  </h2>\n",
    "\n",
    "\n"
   ]
  },
  {
   "cell_type": "markdown",
   "metadata": {},
   "source": [
    "<img src=\"Exemple1.PNG\">\n",
    "\n",
    "> <h3 style=\"color:red\" > Loi Uniforme</h3>\n",
    "On dit qu’une variable aléatoire X suit une loi uniforme\n",
    "discrète lorsqu’elle prend ses valeurs <br> dans {1, . . . , n} avec des\n",
    "probabilités élémentaires identiques.\n",
    "<br> Puisque la somme des ces dernières doit valoir 1, on en déduit qu’elles doivent toutes\n",
    "être égales à un 1/n :\n",
    "∀k = 1 . . . n, P[X = k] = 1 /n\n",
    "\n",
    "Premierement nous déclare les bibliothèques nécessaire "
   ]
  },
  {
   "cell_type": "code",
   "execution_count": 69,
   "metadata": {},
   "outputs": [],
   "source": [
    "import numpy as np\n",
    "import matplotlib.pyplot as plt\n",
    "import scipy.stats as sps\n",
    "from numpy import random\n",
    "import statistics\n",
    "import seaborn as sns\n",
    "import math"
   ]
  },
  {
   "cell_type": "code",
   "execution_count": 70,
   "metadata": {},
   "outputs": [],
   "source": [
    "def loiUniform():\n",
    "    y= random.uniform(0, 1)\n",
    "    return y"
   ]
  },
  {
   "cell_type": "code",
   "execution_count": 71,
   "metadata": {},
   "outputs": [],
   "source": [
    "def listeUniforme(N,x):   \n",
    "    for i in range(N):\n",
    "        x.append(loiUniform())\n",
    "    "
   ]
  },
  {
   "cell_type": "code",
   "execution_count": 72,
   "metadata": {},
   "outputs": [],
   "source": [
    "listeUniforme(10,x)"
   ]
  },
  {
   "cell_type": "markdown",
   "metadata": {},
   "source": [
    "## Visualiser la distrubition "
   ]
  },
  {
   "cell_type": "code",
   "execution_count": 73,
   "metadata": {},
   "outputs": [],
   "source": [
    "def Visualisation(x):\n",
    "    sns.distplot(x, hist=False)\n",
    "    plt.show()"
   ]
  },
  {
   "cell_type": "markdown",
   "metadata": {},
   "source": [
    "### Variance "
   ]
  },
  {
   "cell_type": "code",
   "execution_count": 74,
   "metadata": {},
   "outputs": [],
   "source": [
    " def varianceL(x):\n",
    "    v=statistics.variance(x)  \n",
    "    return print(\"la Variance de la distribution \",v)"
   ]
  },
  {
   "cell_type": "markdown",
   "metadata": {},
   "source": [
    "### Moyenne "
   ]
  },
  {
   "cell_type": "code",
   "execution_count": 75,
   "metadata": {},
   "outputs": [],
   "source": [
    "def moyenneL(x):\n",
    "    m = statistics.mean(x) \n",
    "    print ('la moyenne =',m)\n",
    "    return m"
   ]
  },
  {
   "cell_type": "markdown",
   "metadata": {},
   "source": [
    "## La distribution uniform "
   ]
  },
  {
   "cell_type": "code",
   "execution_count": 76,
   "metadata": {},
   "outputs": [
    {
     "data": {
      "image/png": "[encoded data removed]",
      "text/plain": [
       "<Figure size 432x288 with 1 Axes>"
      ]
     },
     "metadata": {
      "needs_background": "light"
     },
     "output_type": "display_data"
    },
    {
     "name": "stdout",
     "output_type": "stream",
     "text": [
      "la Variance de la distribution  0.1192001683096325\n",
      "la moyenne = 0.4537572957222884\n"
     ]
    },
    {
     "data": {
      "image/png": "[encoded data removed]",
      "text/plain": [
       "<Figure size 432x288 with 1 Axes>"
      ]
     },
     "metadata": {
      "needs_background": "light"
     },
     "output_type": "display_data"
    },
    {
     "name": "stdout",
     "output_type": "stream",
     "text": [
      "la Variance de la distribution  0.09528598897470293\n",
      "la moyenne = 0.5007892373539589\n"
     ]
    },
    {
     "data": {
      "image/png": "[encoded data removed]",
      "text/plain": [
       "<Figure size 432x288 with 1 Axes>"
      ]
     },
     "metadata": {
      "needs_background": "light"
     },
     "output_type": "display_data"
    },
    {
     "name": "stdout",
     "output_type": "stream",
     "text": [
      "la Variance de la distribution  0.08233321221946845\n",
      "la moyenne = 0.49631810008727373\n"
     ]
    },
    {
     "data": {
      "text/plain": [
       "0.49631810008727373"
      ]
     },
     "execution_count": 76,
     "metadata": {},
     "output_type": "execute_result"
    }
   ],
   "source": [
    "N1=10\n",
    "N2=100\n",
    "N3=1000\n",
    "x1=[]\n",
    "listeUniforme(N1,x1)\n",
    "Visualisation(x1)\n",
    "varianceL(x1)\n",
    "moyenneL(x1)\n",
    "\n",
    "x2=[]\n",
    "listeUniforme(N2,x2)\n",
    "Visualisation(x2)\n",
    "varianceL(x2)\n",
    "moyenneL(x2)\n",
    "\n",
    "x3=[]\n",
    "listeUniforme(N3,x3)\n",
    "Visualisation(x3)\n",
    "varianceL(x3)\n",
    "moyenneL(x3)\n"
   ]
  },
  {
   "cell_type": "markdown",
   "metadata": {},
   "source": [
    "> Nous  avons programmé 3 distributions d'une variable aléatoire qui subient la loi uniforme .\n",
    "<br> => alors ce sont  3 echiontionnages de taille differentes (10,100,1000).\n",
    "puis les fonctions \"varianceL\" et \"moyennel\" ont réussi de determiner la moyenne ainsi la varaiance experimentale de chaque echantillon .\n",
    "<br>- Grace à l'etude théorique ,nous réussissons de conclure que :\n",
    "<br> -Lorsque on augmente le nombre d'echantillon N, la varience et la moyenne experimentale s'approchent \n",
    "a celles de la  théorie \n"
   ]
  },
  {
   "cell_type": "markdown",
   "metadata": {},
   "source": [
    " <h3>Exemple2 </h3>"
   ]
  },
  {
   "cell_type": "markdown",
   "metadata": {},
   "source": [
    "<img src=\"tp1_image5.PNG\">"
   ]
  },
  {
   "cell_type": "markdown",
   "metadata": {},
   "source": [
    "> <h3 style=\"color:red\" >Loi exponentielle</h3> \n",
    "Une loi exponentielle modélise la durée de vie d'un phénomène sans\n",
    "mémoire, ou sans vieillissement, ou sans usure : la probabilité que \n",
    "    le phénomène dure au moins s + t heures sachant qu'il a déjà duré t\n",
    "    heures sera la même que la probabilité de durer s heures à partir\n",
    "    de sa mise en fonction initiale."
   ]
  },
  {
   "cell_type": "code",
   "execution_count": 77,
   "metadata": {},
   "outputs": [],
   "source": [
    "def loiexpo(x, N, epsilon, u):\n",
    "    for i in range(N):\n",
    "        y=-((math.log(x[i]))/epsilon)\n",
    "        u.append(y)"
   ]
  },
  {
   "cell_type": "code",
   "execution_count": 78,
   "metadata": {},
   "outputs": [
    {
     "name": "stdout",
     "output_type": "stream",
     "text": [
      "[0.07415921644582717, 0.5500310667861785, 0.4757148665973886, 0.013045274646343483, 0.1737245967012285, 0.26450628745383925, 1.5647825635868715, 0.27572952854425636, 1.4113750895381971e-05, 0.22587587811805956]\n"
     ]
    }
   ],
   "source": [
    "u=[]\n",
    "loiexpo(x1, 10, 4, u)\n",
    "print(u)"
   ]
  },
  {
   "cell_type": "code",
   "execution_count": 79,
   "metadata": {},
   "outputs": [
    {
     "name": "stdout",
     "output_type": "stream",
     "text": [
      "la moyenne = 0.3617583392630888\n",
      "la Variance de la distribution  0.21128362059727213\n"
     ]
    }
   ],
   "source": [
    "moyenneL(u)\n",
    "varianceL(u)"
   ]
  },
  {
   "cell_type": "markdown",
   "metadata": {},
   "source": [
    "# Exemple 3"
   ]
  },
  {
   "cell_type": "markdown",
   "metadata": {},
   "source": [
    "<img src=\"tp1_image6.PNG\">\n",
    "\n",
    "> <h3 style=\"color:red\" >Loi discrète uniforme</h3> \n",
    "En théorie des probabilités, la loi discrète uniforme est une loi de probabilité discrète indiquant une probabilité de se réaliser identique à chaque valeur d’un ensemble fini de valeurs possibles"
   ]
  },
  {
   "cell_type": "code",
   "execution_count": 80,
   "metadata": {},
   "outputs": [],
   "source": [
    "def loiDiscretUniform():\n",
    "    y= random.uniform(a, b)\n",
    "    return y\n",
    "   "
   ]
  },
  {
   "cell_type": "markdown",
   "metadata": {},
   "source": [
    "### Variance de la loi uniforme discréte"
   ]
  },
  {
   "cell_type": "code",
   "execution_count": 81,
   "metadata": {},
   "outputs": [],
   "source": [
    " def varianceL(x):\n",
    "    v=((a-b)*(a-b-2))/12  \n",
    "    return print(\"la Variance de la distribution \",v)"
   ]
  },
  {
   "cell_type": "markdown",
   "metadata": {},
   "source": [
    "## Moyenne de la loi uniforme discréte"
   ]
  },
  {
   "cell_type": "code",
   "execution_count": 82,
   "metadata": {},
   "outputs": [],
   "source": [
    "def moyenneL(x):\n",
    "    m = (a+b)/2\n",
    "    print ('la moyenne =',m)\n",
    "    return m"
   ]
  },
  {
   "cell_type": "markdown",
   "metadata": {},
   "source": [
    "## La distribution Discrét uniform "
   ]
  },
  {
   "cell_type": "code",
   "execution_count": 83,
   "metadata": {},
   "outputs": [
    {
     "ename": "NameError",
     "evalue": "name 'listeDUnif' is not defined",
     "output_type": "error",
     "traceback": [
      "\u001b[1;31m---------------------------------------------------------------------------\u001b[0m",
      "\u001b[1;31mNameError\u001b[0m                                 Traceback (most recent call last)",
      "\u001b[1;32m<ipython-input-83-360839704127>\u001b[0m in \u001b[0;36m<module>\u001b[1;34m\u001b[0m\n\u001b[0;32m      4\u001b[0m \u001b[0mb\u001b[0m\u001b[1;33m=\u001b[0m\u001b[1;36m180\u001b[0m\u001b[1;33m\u001b[0m\u001b[1;33m\u001b[0m\u001b[0m\n\u001b[0;32m      5\u001b[0m \u001b[1;32mfor\u001b[0m \u001b[0mi\u001b[0m \u001b[1;32min\u001b[0m \u001b[0mN\u001b[0m \u001b[1;33m:\u001b[0m\u001b[1;33m\u001b[0m\u001b[1;33m\u001b[0m\u001b[0m\n\u001b[1;32m----> 6\u001b[1;33m     \u001b[0mlisteDUnif\u001b[0m\u001b[1;33m(\u001b[0m\u001b[0mi\u001b[0m\u001b[1;33m,\u001b[0m\u001b[0mx\u001b[0m\u001b[1;33m)\u001b[0m\u001b[1;33m\u001b[0m\u001b[1;33m\u001b[0m\u001b[0m\n\u001b[0m\u001b[0;32m      7\u001b[0m     \u001b[0mprint\u001b[0m\u001b[1;33m(\u001b[0m\u001b[1;34m'*Pour N='\u001b[0m\u001b[1;33m,\u001b[0m\u001b[0mi\u001b[0m\u001b[1;33m)\u001b[0m\u001b[1;33m\u001b[0m\u001b[1;33m\u001b[0m\u001b[0m\n\u001b[0;32m      8\u001b[0m     \u001b[0mvarianceL\u001b[0m\u001b[1;33m(\u001b[0m\u001b[0mx\u001b[0m\u001b[1;33m)\u001b[0m\u001b[1;33m\u001b[0m\u001b[1;33m\u001b[0m\u001b[0m\n",
      "\u001b[1;31mNameError\u001b[0m: name 'listeDUnif' is not defined"
     ]
    }
   ],
   "source": [
    "\n",
    "x=[]\n",
    "N=[10, 100, 10000]\n",
    "a=10\n",
    "b=180\n",
    "for i in N :\n",
    "    listeDUnif(i,x)\n",
    "    print('*Pour N=',i)\n",
    "    varianceL(x)\n",
    "    moyenneL(x)\n",
    "    Visualisation(x)\n",
    "    \n"
   ]
  },
  {
   "cell_type": "markdown",
   "metadata": {},
   "source": [
    "# Exemple 4"
   ]
  },
  {
   "cell_type": "code",
   "execution_count": 84,
   "metadata": {},
   "outputs": [],
   "source": [
    "def creat_table(n):\n",
    "    tab=[]\n",
    "    for i in range(n):\n",
    "        y= random.uniform(0,1)\n",
    "        for k in range(n):\n",
    "            if y<0.3 :\n",
    "                x=0\n",
    "            elif y>=0.3 and y<0.5 :\n",
    "                x=2\n",
    "            elif y>= 0.5 :\n",
    "                x=6\n",
    "            tab.append(x)\n",
    "    return tab     \n",
    "        \n",
    "     \n",
    "        "
   ]
  },
  {
   "cell_type": "code",
   "execution_count": 85,
   "metadata": {},
   "outputs": [
    {
     "name": "stdout",
     "output_type": "stream",
     "text": [
      "*Pour N= 10\n",
      "la Variance de la distribution  2436.6666666666665\n",
      "la moyenne = 95.0\n"
     ]
    },
    {
     "data": {
      "image/png": "[encoded data removed]",
      "text/plain": [
       "<Figure size 432x288 with 1 Axes>"
      ]
     },
     "metadata": {
      "needs_background": "light"
     },
     "output_type": "display_data"
    },
    {
     "name": "stdout",
     "output_type": "stream",
     "text": [
      "*Pour N= 100\n",
      "la Variance de la distribution  2436.6666666666665\n",
      "la moyenne = 95.0\n"
     ]
    },
    {
     "data": {
      "image/png": "[encoded data removed]",
      "text/plain": [
       "<Figure size 432x288 with 1 Axes>"
      ]
     },
     "metadata": {
      "needs_background": "light"
     },
     "output_type": "display_data"
    },
    {
     "name": "stdout",
     "output_type": "stream",
     "text": [
      "*Pour N= 10000\n",
      "la Variance de la distribution  2436.6666666666665\n",
      "la moyenne = 95.0\n"
     ]
    },
    {
     "data": {
      "image/png": "[encoded data removed]",
      "text/plain": [
       "<Figure size 432x288 with 1 Axes>"
      ]
     },
     "metadata": {
      "needs_background": "light"
     },
     "output_type": "display_data"
    }
   ],
   "source": [
    "\n",
    "N=[10, 100, 10000]\n",
    "for i in N :\n",
    "    tab=creat_table(i)\n",
    "    print('*Pour N=',i)\n",
    "    varianceL(tab)\n",
    "    moyenneL(tab)\n",
    "    Visualisation(tab)\n",
    "        "
   ]
  },
  {
   "cell_type": "code",
   "execution_count": null,
   "metadata": {},
   "outputs": [],
   "source": []
  }
 ],
 "metadata": {
  "kernelspec": {
   "display_name": "Python 3",
   "language": "python",
   "name": "python3"
  },
  "language_info": {
   "codemirror_mode": {
    "name": "ipython",
    "version": 3
   },
   "file_extension": ".py",
   "mimetype": "text/x-python",
   "name": "python",
   "nbconvert_exporter": "python",
   "pygments_lexer": "ipython3",
   "version": "3.8.3"
  }
 },
 "nbformat": 4,
 "nbformat_minor": 4
}
